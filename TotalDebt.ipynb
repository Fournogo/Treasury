{
 "cells": [
  {
   "cell_type": "code",
   "execution_count": null,
   "id": "a8722f53-f5b1-4d86-a9b0-533d579b7499",
   "metadata": {},
   "outputs": [],
   "source": [
    "import pandas as pd\n",
    "from matplotlib import pyplot as plt\n",
    "\n",
    "debtPenny = pd.read_csv(\"/Users/avery/JupyterProjects/Treasury/Data/DebtToPenny.csv\")\n",
    "debtPenny[\"Record Date\"] = pd.to_datetime(debtPenny[\"Record Date\"])\n",
    "for column_headers in debtPenny.columns:\n",
    "     print(column_headers)\n",
    "print(debtPenny.head())"
   ]
  }
 ],
 "metadata": {
  "kernelspec": {
   "display_name": "Python 3 (ipykernel)",
   "language": "python",
   "name": "python3"
  },
  "language_info": {
   "codemirror_mode": {
    "name": "ipython",
    "version": 3
   },
   "file_extension": ".py",
   "mimetype": "text/x-python",
   "name": "python",
   "nbconvert_exporter": "python",
   "pygments_lexer": "ipython3",
   "version": "3.11.2"
  }
 },
 "nbformat": 4,
 "nbformat_minor": 5
}
